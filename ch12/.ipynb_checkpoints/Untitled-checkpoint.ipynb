{
 "cells": [
  {
   "cell_type": "code",
   "execution_count": 1,
   "metadata": {
    "collapsed": false
   },
   "outputs": [
    {
     "ename": "SyntaxError",
     "evalue": "invalid syntax (ipy_table.py, line 225)",
     "output_type": "error",
     "traceback": [
      "\u001b[1;36m  File \u001b[1;32m\"/usr/lib/python3.4/site-packages/ipy_table.py\"\u001b[1;36m, line \u001b[1;32m225\u001b[0m\n\u001b[1;33m    print html\u001b[0m\n\u001b[1;37m             ^\u001b[0m\n\u001b[1;31mSyntaxError\u001b[0m\u001b[1;31m:\u001b[0m invalid syntax\n"
     ]
    }
   ],
   "source": [
    "import .list_table\n",
    "\n",
    "header = ['中学生'].append([x for x in range(1,11)])\n",
    "\n",
    "height = [147,160,161,155,154,170,171,157,156]\n",
    "chest = [68,75,77,86,73,74,75,80,74,78]\n",
    "weight = [37,54,49,64,48,44,49,58,42,52]\n",
    "\n",
    "heigth_table = ['x_1(cm)'] + height\n",
    "chest_table = ['x_2(cm)'] + chest\n",
    "weight_table = ['y(kg)'] + weight\n",
    "body = [\n",
    "    header,\n",
    "    height_table,\n",
    "    chest_table,\n",
    "    weight_table\n",
    "]\n",
    "table.append(body)"
   ]
  },
  {
   "cell_type": "code",
   "execution_count": 2,
   "metadata": {
    "collapsed": false
   },
   "outputs": [
    {
     "ename": "SyntaxError",
     "evalue": "invalid syntax (<ipython-input-2-697a1614c49e>, line 1)",
     "output_type": "error",
     "traceback": [
      "\u001b[1;36m  File \u001b[1;32m\"<ipython-input-2-697a1614c49e>\"\u001b[1;36m, line \u001b[1;32m1\u001b[0m\n\u001b[1;33m    import .list_table\u001b[0m\n\u001b[1;37m           ^\u001b[0m\n\u001b[1;31mSyntaxError\u001b[0m\u001b[1;31m:\u001b[0m invalid syntax\n"
     ]
    }
   ],
   "source": [
    "import list_table\n",
    "\n",
    "header = ['中学生'].append([x for x in range(1,11)])\n",
    "\n",
    "height = [147,160,161,155,154,170,171,157,156]\n",
    "chest = [68,75,77,86,73,74,75,80,74,78]\n",
    "weight = [37,54,49,64,48,44,49,58,42,52]\n",
    "\n",
    "heigth_table = ['x_1(cm)'] + height\n",
    "chest_table = ['x_2(cm)'] + chest\n",
    "weight_table = ['y(kg)'] + weight\n",
    "body = [\n",
    "    header,\n",
    "    height_table,\n",
    "    chest_table,\n",
    "    weight_table\n",
    "]\n",
    "table.append(body)"
   ]
  },
  {
   "cell_type": "code",
   "execution_count": 3,
   "metadata": {
    "collapsed": false
   },
   "outputs": [
    {
     "ename": "NameError",
     "evalue": "name 'height_table' is not defined",
     "output_type": "error",
     "traceback": [
      "\u001b[1;31m---------------------------------------------------------------------------\u001b[0m",
      "\u001b[1;31mNameError\u001b[0m                                 Traceback (most recent call last)",
      "\u001b[1;32m<ipython-input-3-99325eeef006>\u001b[0m in \u001b[0;36m<module>\u001b[1;34m()\u001b[0m\n\u001b[0;32m     12\u001b[0m body = [\n\u001b[0;32m     13\u001b[0m     \u001b[0mheader\u001b[0m\u001b[1;33m,\u001b[0m\u001b[1;33m\u001b[0m\u001b[0m\n\u001b[1;32m---> 14\u001b[1;33m     \u001b[0mheight_table\u001b[0m\u001b[1;33m,\u001b[0m\u001b[1;33m\u001b[0m\u001b[0m\n\u001b[0m\u001b[0;32m     15\u001b[0m     \u001b[0mchest_table\u001b[0m\u001b[1;33m,\u001b[0m\u001b[1;33m\u001b[0m\u001b[0m\n\u001b[0;32m     16\u001b[0m     \u001b[0mweight_table\u001b[0m\u001b[1;33m\u001b[0m\u001b[0m\n",
      "\u001b[1;31mNameError\u001b[0m: name 'height_table' is not defined"
     ]
    }
   ],
   "source": [
    "import list_table\n",
    "\n",
    "header = ['中学生'].append([x for x in range(1,11)])\n",
    "\n",
    "height = [147,160,161,155,154,170,171,157,156]\n",
    "chest = [68,75,77,86,73,74,75,80,74,78]\n",
    "weight = [37,54,49,64,48,44,49,58,42,52]\n",
    "\n",
    "heigth_table = ['x_1(cm)'] + height\n",
    "chest_table = ['x_2(cm)'] + chest\n",
    "weight_table = ['y(kg)'] + weight\n",
    "body = [\n",
    "    header,\n",
    "    height_table,\n",
    "    chest_table,\n",
    "    weight_table\n",
    "]\n",
    "table.append(body)"
   ]
  },
  {
   "cell_type": "code",
   "execution_count": 5,
   "metadata": {
    "collapsed": false
   },
   "outputs": [
    {
     "ename": "AttributeError",
     "evalue": "'module' object has no attribute 'ListTable'",
     "output_type": "error",
     "traceback": [
      "\u001b[1;31m---------------------------------------------------------------------------\u001b[0m",
      "\u001b[1;31mAttributeError\u001b[0m                            Traceback (most recent call last)",
      "\u001b[1;32m<ipython-input-5-e457069b7260>\u001b[0m in \u001b[0;36m<module>\u001b[1;34m()\u001b[0m\n\u001b[0;32m     17\u001b[0m ]\n\u001b[0;32m     18\u001b[0m \u001b[1;33m\u001b[0m\u001b[0m\n\u001b[1;32m---> 19\u001b[1;33m \u001b[0mtable\u001b[0m \u001b[1;33m=\u001b[0m \u001b[0mlist_table\u001b[0m\u001b[1;33m.\u001b[0m\u001b[0mListTable\u001b[0m\u001b[1;33m(\u001b[0m\u001b[1;33m)\u001b[0m\u001b[1;33m\u001b[0m\u001b[0m\n\u001b[0m\u001b[0;32m     20\u001b[0m \u001b[0mtable\u001b[0m\u001b[1;33m.\u001b[0m\u001b[0mappend\u001b[0m\u001b[1;33m(\u001b[0m\u001b[0mbody\u001b[0m\u001b[1;33m)\u001b[0m\u001b[1;33m\u001b[0m\u001b[0m\n",
      "\u001b[1;31mAttributeError\u001b[0m: 'module' object has no attribute 'ListTable'"
     ]
    }
   ],
   "source": [
    "import list_table\n",
    "\n",
    "header = ['中学生'].append([x for x in range(1,11)])\n",
    "\n",
    "height = [147,160,161,155,154,170,171,157,156]\n",
    "chest = [68,75,77,86,73,74,75,80,74,78]\n",
    "weight = [37,54,49,64,48,44,49,58,42,52]\n",
    "\n",
    "height_table = ['x_1(cm)'] + height\n",
    "chest_table = ['x_2(cm)'] + chest\n",
    "weight_table = ['y(kg)'] + weight\n",
    "body = [\n",
    "    header,\n",
    "    height_table,\n",
    "    chest_table,\n",
    "    weight_table\n",
    "]\n",
    "\n",
    "table = list_table.ListTable()\n",
    "table.append(body)"
   ]
  },
  {
   "cell_type": "code",
   "execution_count": 6,
   "metadata": {
    "collapsed": false
   },
   "outputs": [
    {
     "ename": "ImportError",
     "evalue": "cannot import name 'ListTable'",
     "output_type": "error",
     "traceback": [
      "\u001b[1;31m---------------------------------------------------------------------------\u001b[0m",
      "\u001b[1;31mImportError\u001b[0m                               Traceback (most recent call last)",
      "\u001b[1;32m<ipython-input-6-6cf69a76c79c>\u001b[0m in \u001b[0;36m<module>\u001b[1;34m()\u001b[0m\n\u001b[1;32m----> 1\u001b[1;33m \u001b[1;32mfrom\u001b[0m \u001b[0mlist_table\u001b[0m \u001b[1;32mimport\u001b[0m \u001b[0mListTable\u001b[0m\u001b[1;33m\u001b[0m\u001b[0m\n\u001b[0m\u001b[0;32m      2\u001b[0m \u001b[1;33m\u001b[0m\u001b[0m\n\u001b[0;32m      3\u001b[0m \u001b[0mheader\u001b[0m \u001b[1;33m=\u001b[0m \u001b[1;33m[\u001b[0m\u001b[1;34m'中学生'\u001b[0m\u001b[1;33m]\u001b[0m\u001b[1;33m.\u001b[0m\u001b[0mappend\u001b[0m\u001b[1;33m(\u001b[0m\u001b[1;33m[\u001b[0m\u001b[0mx\u001b[0m \u001b[1;32mfor\u001b[0m \u001b[0mx\u001b[0m \u001b[1;32min\u001b[0m \u001b[0mrange\u001b[0m\u001b[1;33m(\u001b[0m\u001b[1;36m1\u001b[0m\u001b[1;33m,\u001b[0m\u001b[1;36m11\u001b[0m\u001b[1;33m)\u001b[0m\u001b[1;33m]\u001b[0m\u001b[1;33m)\u001b[0m\u001b[1;33m\u001b[0m\u001b[0m\n\u001b[0;32m      4\u001b[0m \u001b[1;33m\u001b[0m\u001b[0m\n\u001b[0;32m      5\u001b[0m \u001b[0mheight\u001b[0m \u001b[1;33m=\u001b[0m \u001b[1;33m[\u001b[0m\u001b[1;36m147\u001b[0m\u001b[1;33m,\u001b[0m\u001b[1;36m160\u001b[0m\u001b[1;33m,\u001b[0m\u001b[1;36m161\u001b[0m\u001b[1;33m,\u001b[0m\u001b[1;36m155\u001b[0m\u001b[1;33m,\u001b[0m\u001b[1;36m154\u001b[0m\u001b[1;33m,\u001b[0m\u001b[1;36m170\u001b[0m\u001b[1;33m,\u001b[0m\u001b[1;36m171\u001b[0m\u001b[1;33m,\u001b[0m\u001b[1;36m157\u001b[0m\u001b[1;33m,\u001b[0m\u001b[1;36m156\u001b[0m\u001b[1;33m]\u001b[0m\u001b[1;33m\u001b[0m\u001b[0m\n",
      "\u001b[1;31mImportError\u001b[0m: cannot import name 'ListTable'"
     ]
    }
   ],
   "source": [
    "from list_table import ListTable\n",
    "\n",
    "header = ['中学生'].append([x for x in range(1,11)])\n",
    "\n",
    "height = [147,160,161,155,154,170,171,157,156]\n",
    "chest = [68,75,77,86,73,74,75,80,74,78]\n",
    "weight = [37,54,49,64,48,44,49,58,42,52]\n",
    "\n",
    "height_table = ['x_1(cm)'] + height\n",
    "chest_table = ['x_2(cm)'] + chest\n",
    "weight_table = ['y(kg)'] + weight\n",
    "body = [\n",
    "    header,\n",
    "    height_table,\n",
    "    chest_table,\n",
    "    weight_table\n",
    "]\n",
    "\n",
    "table = list_table.ListTable()\n",
    "table.append(body)"
   ]
  },
  {
   "cell_type": "code",
   "execution_count": 7,
   "metadata": {
    "collapsed": false
   },
   "outputs": [
    {
     "ename": "NameError",
     "evalue": "name 'ListTable' is not defined",
     "output_type": "error",
     "traceback": [
      "\u001b[1;31m---------------------------------------------------------------------------\u001b[0m",
      "\u001b[1;31mNameError\u001b[0m                                 Traceback (most recent call last)",
      "\u001b[1;32m<ipython-input-7-85b1e170e5fa>\u001b[0m in \u001b[0;36m<module>\u001b[1;34m()\u001b[0m\n\u001b[0;32m     17\u001b[0m ]\n\u001b[0;32m     18\u001b[0m \u001b[1;33m\u001b[0m\u001b[0m\n\u001b[1;32m---> 19\u001b[1;33m \u001b[0mtable\u001b[0m \u001b[1;33m=\u001b[0m \u001b[0mListTable\u001b[0m\u001b[1;33m(\u001b[0m\u001b[1;33m)\u001b[0m\u001b[1;33m\u001b[0m\u001b[0m\n\u001b[0m\u001b[0;32m     20\u001b[0m \u001b[0mtable\u001b[0m\u001b[1;33m.\u001b[0m\u001b[0mappend\u001b[0m\u001b[1;33m(\u001b[0m\u001b[0mbody\u001b[0m\u001b[1;33m)\u001b[0m\u001b[1;33m\u001b[0m\u001b[0m\n",
      "\u001b[1;31mNameError\u001b[0m: name 'ListTable' is not defined"
     ]
    }
   ],
   "source": [
    "import list_table\n",
    "\n",
    "header = ['中学生'].append([x for x in range(1,11)])\n",
    "\n",
    "height = [147,160,161,155,154,170,171,157,156]\n",
    "chest = [68,75,77,86,73,74,75,80,74,78]\n",
    "weight = [37,54,49,64,48,44,49,58,42,52]\n",
    "\n",
    "height_table = ['x_1(cm)'] + height\n",
    "chest_table = ['x_2(cm)'] + chest\n",
    "weight_table = ['y(kg)'] + weight\n",
    "body = [\n",
    "    header,\n",
    "    height_table,\n",
    "    chest_table,\n",
    "    weight_table\n",
    "]\n",
    "\n",
    "table = ListTable()\n",
    "table.append(body)"
   ]
  },
  {
   "cell_type": "code",
   "execution_count": 8,
   "metadata": {
    "collapsed": false
   },
   "outputs": [
    {
     "ename": "NameError",
     "evalue": "name 'ListTable' is not defined",
     "output_type": "error",
     "traceback": [
      "\u001b[1;31m---------------------------------------------------------------------------\u001b[0m",
      "\u001b[1;31mNameError\u001b[0m                                 Traceback (most recent call last)",
      "\u001b[1;32m<ipython-input-8-7a36187bb6d0>\u001b[0m in \u001b[0;36m<module>\u001b[1;34m()\u001b[0m\n\u001b[0;32m     17\u001b[0m ]\n\u001b[0;32m     18\u001b[0m \u001b[1;33m\u001b[0m\u001b[0m\n\u001b[1;32m---> 19\u001b[1;33m \u001b[0mtable\u001b[0m \u001b[1;33m=\u001b[0m \u001b[0mListTable\u001b[0m\u001b[1;33m(\u001b[0m\u001b[1;33m)\u001b[0m\u001b[1;33m\u001b[0m\u001b[0m\n\u001b[0m\u001b[0;32m     20\u001b[0m \u001b[0mtable\u001b[0m\u001b[1;33m.\u001b[0m\u001b[0mappend\u001b[0m\u001b[1;33m(\u001b[0m\u001b[0mbody\u001b[0m\u001b[1;33m)\u001b[0m\u001b[1;33m\u001b[0m\u001b[0m\n",
      "\u001b[1;31mNameError\u001b[0m: name 'ListTable' is not defined"
     ]
    }
   ],
   "source": [
    "from list_table import *\n",
    "\n",
    "header = ['中学生'].append([x for x in range(1,11)])\n",
    "\n",
    "height = [147,160,161,155,154,170,171,157,156]\n",
    "chest = [68,75,77,86,73,74,75,80,74,78]\n",
    "weight = [37,54,49,64,48,44,49,58,42,52]\n",
    "\n",
    "height_table = ['x_1(cm)'] + height\n",
    "chest_table = ['x_2(cm)'] + chest\n",
    "weight_table = ['y(kg)'] + weight\n",
    "body = [\n",
    "    header,\n",
    "    height_table,\n",
    "    chest_table,\n",
    "    weight_table\n",
    "]\n",
    "\n",
    "table = ListTable()\n",
    "table.append(body)"
   ]
  },
  {
   "cell_type": "code",
   "execution_count": 9,
   "metadata": {
    "collapsed": false
   },
   "outputs": [
    {
     "ename": "NameError",
     "evalue": "name 'ListTable' is not defined",
     "output_type": "error",
     "traceback": [
      "\u001b[1;31m---------------------------------------------------------------------------\u001b[0m",
      "\u001b[1;31mNameError\u001b[0m                                 Traceback (most recent call last)",
      "\u001b[1;32m<ipython-input-9-7a36187bb6d0>\u001b[0m in \u001b[0;36m<module>\u001b[1;34m()\u001b[0m\n\u001b[0;32m     17\u001b[0m ]\n\u001b[0;32m     18\u001b[0m \u001b[1;33m\u001b[0m\u001b[0m\n\u001b[1;32m---> 19\u001b[1;33m \u001b[0mtable\u001b[0m \u001b[1;33m=\u001b[0m \u001b[0mListTable\u001b[0m\u001b[1;33m(\u001b[0m\u001b[1;33m)\u001b[0m\u001b[1;33m\u001b[0m\u001b[0m\n\u001b[0m\u001b[0;32m     20\u001b[0m \u001b[0mtable\u001b[0m\u001b[1;33m.\u001b[0m\u001b[0mappend\u001b[0m\u001b[1;33m(\u001b[0m\u001b[0mbody\u001b[0m\u001b[1;33m)\u001b[0m\u001b[1;33m\u001b[0m\u001b[0m\n",
      "\u001b[1;31mNameError\u001b[0m: name 'ListTable' is not defined"
     ]
    }
   ],
   "source": [
    "from list_table import *\n",
    "\n",
    "header = ['中学生'].append([x for x in range(1,11)])\n",
    "\n",
    "height = [147,160,161,155,154,170,171,157,156]\n",
    "chest = [68,75,77,86,73,74,75,80,74,78]\n",
    "weight = [37,54,49,64,48,44,49,58,42,52]\n",
    "\n",
    "height_table = ['x_1(cm)'] + height\n",
    "chest_table = ['x_2(cm)'] + chest\n",
    "weight_table = ['y(kg)'] + weight\n",
    "body = [\n",
    "    header,\n",
    "    height_table,\n",
    "    chest_table,\n",
    "    weight_table\n",
    "]\n",
    "\n",
    "table = ListTable()\n",
    "table.append(body)"
   ]
  },
  {
   "cell_type": "code",
   "execution_count": null,
   "metadata": {
    "collapsed": true
   },
   "outputs": [],
   "source": [
    "\n",
    "from list_table import *\n",
    "\n",
    "header = ['中学生'].append([x for x in range(1,11)])\n",
    "\n",
    "height = [147,160,161,155,154,170,171,157,156]\n",
    "chest = [68,75,77,86,73,74,75,80,74,78]\n",
    "weight = [37,54,49,64,48,44,49,58,42,52]\n",
    "\n",
    "height_table = ['x_1(cm)'] + height\n",
    "chest_table = ['x_2(cm)'] + chest\n",
    "weight_table = ['y(kg)'] + weight\n",
    "body = [\n",
    "    header,\n",
    "    height_table,\n",
    "    chest_table,\n",
    "    weight_table\n",
    "]\n",
    "\n",
    "table = ListTable()\n",
    "table.append(body)"
   ]
  }
 ],
 "metadata": {
  "kernelspec": {
   "display_name": "Python 3",
   "language": "python",
   "name": "python3"
  },
  "language_info": {
   "codemirror_mode": {
    "name": "ipython",
    "version": 3
   },
   "file_extension": ".py",
   "mimetype": "text/x-python",
   "name": "python",
   "nbconvert_exporter": "python",
   "pygments_lexer": "ipython3",
   "version": "3.4.1"
  }
 },
 "nbformat": 4,
 "nbformat_minor": 0
}
