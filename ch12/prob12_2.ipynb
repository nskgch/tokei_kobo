{
 "cells": [
  {
   "cell_type": "markdown",
   "metadata": {},
   "source": [
    "# 演習問題　12.2"
   ]
  },
  {
   "cell_type": "markdown",
   "metadata": {},
   "source": [
    "ある中学校1年生の男子10人の身長$x_1 (\\mathrm{cm})$・胸囲 $x_2 (\\mathrm{cm})$・体重 $y (\\mathrm{kg})$を測定し下記のデータを得た。\n",
    "\n",
    "|中学生|1|2|3|4|5|6|7|8|9|10|\n",
    "|:-|:-:|:-:|:-:|:-:|:-:|:-:|:-:|:-:|:-:|:-:|\n",
    "|x_1 (cm)|147|160|161|163|155|154|170|171|157|156|\n",
    "|x_2 (cm)|68|75|77|86|73|74|75|80|74|78|\n",
    "|y (kg)|37|54|49|64|48|44|49|58|42|52|\n",
    "\n",
    "胸囲$x_2$の影響を取り除いたときの体重$y$と身長$x_1$の偏相関$r_{01 \\cdot (2)}$を求め、体重$y$と身長$x_1$の単相関$x_{01}$と比較せよ。"
   ]
  },
  {
   "cell_type": "markdown",
   "metadata": {},
   "source": [
    "# 解答　12.2"
   ]
  },
  {
   "cell_type": "markdown",
   "metadata": {},
   "source": [
    "###次の3つのアプローチを用いて、偏相関係数をそれぞれ算出。\n",
    "1. 共分散行列の逆行列の要素を用いて計算（教科書での計算方法）\n",
    "2. 観測値$y$と説明変数$x_1$から、他の説明変数の影響を取り除いたそれぞれの残差の相関係数を計算（教科書での偏相関係数の定義）\n",
    "3. (単)相関係数を用いて計算（略解に出ている式、他の多くの統計学の本で公式として用いられている）  "
   ]
  },
  {
   "cell_type": "markdown",
   "metadata": {},
   "source": [
    "### 1. 共分散行列の逆行列の要素を用いて計算"
   ]
  },
  {
   "cell_type": "markdown",
   "metadata": {},
   "source": [
    "体重の観測値ベクトルを$y$、身長と胸囲のベクトルをそれぞれ$x_1,x_2$とし、デザイン行列を身長、胸囲の順で$X= [x_1,x_2]$とする。  \n",
    "(教科書とは異なり、n×1の縦ベクトルで扱う。)"
   ]
  },
  {
   "cell_type": "code",
   "execution_count": 4,
   "metadata": {
    "collapsed": true
   },
   "outputs": [],
   "source": [
    "import math\n",
    "import numpy as np\n",
    "\n",
    "y = np.matrix([ 37,  54,  49,  64,  48,  44,  49,  58,  42,  52]).T\n",
    "x_1 = np.matrix([147, 160, 161, 163, 155, 154, 170, 171, 157, 156]).T\n",
    "x_2 = np.matrix([ 68,  75,  77,  86,  73,  74,  75,  80,  74,  78]).T\n",
    "X = np.column_stack((x_1,x_2))"
   ]
  },
  {
   "cell_type": "code",
   "execution_count": 5,
   "metadata": {
    "collapsed": false
   },
   "outputs": [
    {
     "data": {
      "text/plain": [
       "matrix([[147,  68],\n",
       "        [160,  75],\n",
       "        [161,  77],\n",
       "        [163,  86],\n",
       "        [155,  73],\n",
       "        [154,  74],\n",
       "        [170,  75],\n",
       "        [171,  80],\n",
       "        [157,  74],\n",
       "        [156,  78]])"
      ]
     },
     "execution_count": 5,
     "metadata": {},
     "output_type": "execute_result"
    }
   ],
   "source": [
    "X #デザイン行列"
   ]
  },
  {
   "cell_type": "markdown",
   "metadata": {},
   "source": [
    "標本共分散行列と変数行列の関係を簡潔に表現するため、変数の行列を中心化しておく。 \n",
    "$y$と$X$を中心化したものを、それぞれ$y_c$,$X_c$とおく。  \n",
    "以下では、中心化を行うオペレータ$(I-(1/n)jj')$を用い、\n",
    "$y_c= (I-(1/n)jj')y,X_c = (I-(1/n)jj')X$を計算。  \n",
    "ここで、$n$は観測数、$I$は単位行列、$j=(1,1, \\cdots,1)'$。$'$は転置を表す記号。"
   ]
  },
  {
   "cell_type": "code",
   "execution_count": 6,
   "metadata": {
    "collapsed": false
   },
   "outputs": [],
   "source": [
    "n = len(y) #観測数 10\n",
    "\n",
    "I = np.matrix(np.identity(n))#10×10単位行列 \n",
    "J = np.matrix(np.ones((n,n))) # J = jj'　要素がすべて1の正方行列（10×10）\n",
    "\n",
    "y_c = (I-(1/n)*J)*y #中心化したy\n",
    "X_c = (I-(1/n)*J)*X #中心化したX"
   ]
  },
  {
   "cell_type": "code",
   "execution_count": 7,
   "metadata": {
    "collapsed": false
   },
   "outputs": [
    {
     "data": {
      "text/plain": [
       "matrix([[-12.7],\n",
       "        [  4.3],\n",
       "        [ -0.7],\n",
       "        [ 14.3],\n",
       "        [ -1.7],\n",
       "        [ -5.7],\n",
       "        [ -0.7],\n",
       "        [  8.3],\n",
       "        [ -7.7],\n",
       "        [  2.3]])"
      ]
     },
     "execution_count": 7,
     "metadata": {},
     "output_type": "execute_result"
    }
   ],
   "source": [
    "y_c"
   ]
  },
  {
   "cell_type": "code",
   "execution_count": 8,
   "metadata": {
    "collapsed": false
   },
   "outputs": [
    {
     "data": {
      "text/plain": [
       "matrix([[-12.4,  -8. ],\n",
       "        [  0.6,  -1. ],\n",
       "        [  1.6,   1. ],\n",
       "        [  3.6,  10. ],\n",
       "        [ -4.4,  -3. ],\n",
       "        [ -5.4,  -2. ],\n",
       "        [ 10.6,  -1. ],\n",
       "        [ 11.6,   4. ],\n",
       "        [ -2.4,  -2. ],\n",
       "        [ -3.4,   2. ]])"
      ]
     },
     "execution_count": 8,
     "metadata": {},
     "output_type": "execute_result"
    }
   ],
   "source": [
    "X_c"
   ]
  },
  {
   "cell_type": "markdown",
   "metadata": {},
   "source": [
    "説明変数$x_j,x_l(j,l=1,2)$の標本共分散を$s_{jl}$とし、標本共分散行列を$S_{xx}$とする。$S_{xx}=(1/n)X_c'X_c$より、"
   ]
  },
  {
   "cell_type": "code",
   "execution_count": 9,
   "metadata": {
    "collapsed": false
   },
   "outputs": [
    {
     "data": {
      "text/plain": [
       "matrix([[ 48.24,  19.4 ],\n",
       "        [ 19.4 ,  20.4 ]])"
      ]
     },
     "execution_count": 9,
     "metadata": {},
     "output_type": "execute_result"
    }
   ],
   "source": [
    "S_xx = (1/n) * X_c.T *X_c\n",
    "S_xx"
   ]
  },
  {
   "cell_type": "markdown",
   "metadata": {},
   "source": [
    "説明変数$x_j$と観測値yの標本共分散を$s_{j0}$、そのベクトルを$S_{xy}$とする。$S_{xy}=(1/n)X_c'y_c$より、"
   ]
  },
  {
   "cell_type": "code",
   "execution_count": 10,
   "metadata": {
    "collapsed": false,
    "scrolled": true
   },
   "outputs": [
    {
     "data": {
      "text/plain": [
       "matrix([[ 34.82],\n",
       "        [ 31.  ]])"
      ]
     },
     "execution_count": 10,
     "metadata": {},
     "output_type": "execute_result"
    }
   ],
   "source": [
    "S_xy = (1/n) * X_c.T * y_c\n",
    "S_xy"
   ]
  },
  {
   "cell_type": "markdown",
   "metadata": {},
   "source": [
    "観測値$y$の(共)分散を$s_{00}$とする。"
   ]
  },
  {
   "cell_type": "code",
   "execution_count": 11,
   "metadata": {
    "collapsed": true
   },
   "outputs": [],
   "source": [
    "s_00 = (1/n) * y_c.T * y_c"
   ]
  },
  {
   "cell_type": "markdown",
   "metadata": {},
   "source": [
    "ここで全データの標本共分散行列を$S$と表す。$\\begin{equation}S=\\begin{pmatrix}s_{00} & S_{xy}'\\\\  S_{xy} & S_{xx} \\end{pmatrix} \\end{equation}$."
   ]
  },
  {
   "cell_type": "code",
   "execution_count": 12,
   "metadata": {
    "collapsed": false
   },
   "outputs": [],
   "source": [
    "S = np.bmat([[s_00,S_xy.T],[S_xy,S_xx]])"
   ]
  },
  {
   "cell_type": "markdown",
   "metadata": {},
   "source": [
    "$S^{-1}$を計算。(コードではS_invで表記）"
   ]
  },
  {
   "cell_type": "code",
   "execution_count": 13,
   "metadata": {
    "collapsed": false
   },
   "outputs": [
    {
     "data": {
      "text/plain": [
       "matrix([[ 0.13614503, -0.02440205, -0.18368118],\n",
       "        [-0.02440205,  0.03794093,  0.00100047],\n",
       "        [-0.18368118,  0.00100047,  0.32719154]])"
      ]
     },
     "execution_count": 13,
     "metadata": {},
     "output_type": "execute_result"
    }
   ],
   "source": [
    "S_inv = np.linalg.inv(S)\n",
    "S_inv"
   ]
  },
  {
   "cell_type": "markdown",
   "metadata": {},
   "source": [
    "####偏相関係数$r_{01\\cdot(2)}$を求める。"
   ]
  },
  {
   "cell_type": "markdown",
   "metadata": {},
   "source": [
    "$S^{-1}$の$ij$要素を$s^{ij}$で表す。（コードではs_inv_ij）。  \n",
    "$y,x_1$の偏相関係数$r_{01\\cdot(2)}$は、$-s^{01}/\\sqrt{s^{00}s^{11}}$で表せることより(教科書p.215)、"
   ]
  },
  {
   "cell_type": "code",
   "execution_count": 14,
   "metadata": {
    "collapsed": false
   },
   "outputs": [
    {
     "name": "stdout",
     "output_type": "stream",
     "text": [
      "偏相関係数\n"
     ]
    },
    {
     "data": {
      "text/plain": [
       "0.33952479611309916"
      ]
     },
     "execution_count": 14,
     "metadata": {},
     "output_type": "execute_result"
    }
   ],
   "source": [
    "s_inv_00 = S_inv[0,0]\n",
    "s_inv_01 = S_inv[0,1]\n",
    "s_inv_11 = S_inv[1,1]\n",
    "\n",
    "r012 = -s_inv_01/math.sqrt(s_inv_00*s_inv_11)\n",
    "print(\"偏相関係数\")\n",
    "r012\n"
   ]
  },
  {
   "cell_type": "markdown",
   "metadata": {},
   "source": [
    "####単相関係数$r_{01}$を求める。"
   ]
  },
  {
   "cell_type": "markdown",
   "metadata": {},
   "source": [
    "共分散行列$S$の$ij$要素を$s_{ij}$とすれば、$y$と$x_1$の（単）相関係数$r_{01}$は$s_{01}/\\sqrt{s_{00}s_{11}}$であるから、"
   ]
  },
  {
   "cell_type": "code",
   "execution_count": 15,
   "metadata": {
    "collapsed": false
   },
   "outputs": [
    {
     "name": "stdout",
     "output_type": "stream",
     "text": [
      "単相関係数\n"
     ]
    },
    {
     "data": {
      "text/plain": [
       "0.67348983010735031"
      ]
     },
     "execution_count": 15,
     "metadata": {},
     "output_type": "execute_result"
    }
   ],
   "source": [
    "s_00 = S[0,0]\n",
    "s_01 = S[0,1]\n",
    "s_11 = S[1,1]\n",
    "\n",
    "r_01 = s_01/math.sqrt(s_00*s_11)\n",
    "print(\"単相関係数\")\n",
    "r_01"
   ]
  },
  {
   "cell_type": "markdown",
   "metadata": {},
   "source": [
    "####結果の考察"
   ]
  },
  {
   "cell_type": "markdown",
   "metadata": {},
   "source": [
    "$0$ < $r_{01(2)}$ < $r_{01}$となることから、身長と体重の間には正の相関があるが、胸囲の大きさの影響を取り除くとその関係は弱まる。\n",
    "すなわち、胸囲（横幅？）を一定とすれば、身長の高さ（縦？）が体重に与える影響はより限定的になる。"
   ]
  },
  {
   "cell_type": "markdown",
   "metadata": {},
   "source": [
    "###2. 残差の相関係数を計算  \n",
    "変数等の表記は1.と共通"
   ]
  },
  {
   "cell_type": "markdown",
   "metadata": {},
   "source": [
    "$y$を$x_2$に回帰したものを$\\hat{\\hat{y}}$とし、その残差を$e_0$とする。$x_1$を$x_2$に回帰したものを$\\hat{\\hat{x_1}}$とし、その残差を$e_1$とする（教科書 p.213）。これらの単相関係数$Corr(e_0,e_1)$が、教科書でのそもそもの偏相関係数の定義。"
   ]
  },
  {
   "cell_type": "markdown",
   "metadata": {},
   "source": [
    "$\\hat{\\hat{y_c}} = \\hat{\\hat{\\theta_c}}x_{2c}, \\hspace{15pt} e_0=y_c - \\hat{\\hat{y_c}}$  \n",
    "$\\hat{\\hat{x_{1c}}} = \\hat{\\hat{\\alpha_c}}x_{2c}, \\hspace{15pt} e_1=x_{1c} - \\hat{\\hat{x_c}}$"
   ]
  },
  {
   "cell_type": "markdown",
   "metadata": {},
   "source": [
    "$e_0$を求める。$\\ e_0 = [I-x_2(x_2'x_2)^{-1}x_2']y_c\\ $"
   ]
  },
  {
   "cell_type": "code",
   "execution_count": 16,
   "metadata": {
    "collapsed": false
   },
   "outputs": [
    {
     "name": "stdout",
     "output_type": "stream",
     "text": [
      "残差e_0\n"
     ]
    },
    {
     "data": {
      "text/plain": [
       "matrix([[-0.54313725],\n",
       "        [ 5.81960784],\n",
       "        [-2.21960784],\n",
       "        [-0.89607843],\n",
       "        [ 2.85882353],\n",
       "        [-2.66078431],\n",
       "        [ 0.81960784],\n",
       "        [ 2.22156863],\n",
       "        [-4.66078431],\n",
       "        [-0.73921569]])"
      ]
     },
     "execution_count": 16,
     "metadata": {},
     "output_type": "execute_result"
    }
   ],
   "source": [
    "x_2c = (I-(1/n)*J)*x_2 #中心化\n",
    "xx_2c = x_2c.T*x_2c #情報行列\n",
    "xx_2c_inv = np.linalg.inv(xx_2c) #情報行列の逆行列\n",
    "e_0 = (I-x_2c*xx_2c_inv*x_2c.T)*y_c # e = [I-X(X'X)^ X']y\n",
    "print(\"残差e_0\")\n",
    "e_0"
   ]
  },
  {
   "cell_type": "markdown",
   "metadata": {},
   "source": [
    "同様に$\\ e_1$を求める。"
   ]
  },
  {
   "cell_type": "code",
   "execution_count": 17,
   "metadata": {
    "collapsed": false
   },
   "outputs": [
    {
     "data": {
      "text/plain": [
       "matrix([[ -4.79215686],\n",
       "        [  1.55098039],\n",
       "        [  0.64901961],\n",
       "        [ -5.90980392],\n",
       "        [ -1.54705882],\n",
       "        [ -3.49803922],\n",
       "        [ 11.55098039],\n",
       "        [  7.79607843],\n",
       "        [ -0.49803922],\n",
       "        [ -5.30196078]])"
      ]
     },
     "execution_count": 17,
     "metadata": {},
     "output_type": "execute_result"
    }
   ],
   "source": [
    "x_1c = (I-(1/n)*J)*x_1 #中心化\n",
    "xx_1c = x_1c.T*x_1c #情報行列 X'X\n",
    "xx_1c_inv = np.linalg.inv(xx_1c) #情報行列の逆行列\n",
    "e_1 = (I-x_2c*xx_2c_inv*x_2c.T)*x_1c #X(X'X)^-1 X'y\n",
    "e_1"
   ]
  },
  {
   "cell_type": "markdown",
   "metadata": {},
   "source": [
    "$e_0$と$e_1$の相関係数(相関行列)を求める。"
   ]
  },
  {
   "cell_type": "code",
   "execution_count": 18,
   "metadata": {
    "collapsed": false
   },
   "outputs": [
    {
     "data": {
      "text/plain": [
       "array([[ 1.       ,  0.3395248],\n",
       "       [ 0.3395248,  1.       ]])"
      ]
     },
     "execution_count": 18,
     "metadata": {},
     "output_type": "execute_result"
    }
   ],
   "source": [
    "e_0 = np.array(e_0).T #arrayに型を変換\n",
    "e_1 = np.array(e_1).T\n",
    "r_1 = np.corrcoef(e_0,e_1)\n",
    "r_1"
   ]
  },
  {
   "cell_type": "markdown",
   "metadata": {},
   "source": [
    " "
   ]
  },
  {
   "cell_type": "markdown",
   "metadata": {},
   "source": [
    "相関係数$corr(e_0,e_1)$は、1.の計算結果と一致していることが分かる。"
   ]
  },
  {
   "cell_type": "markdown",
   "metadata": {},
   "source": [
    "ちなみに、変数を中心化して行った回帰と通常の回帰で、両者の残差は一致する(教科書p.210)。  \n",
    "$\\hat{y} = \\hat{{\\theta_{0}}}+{\\hat{\\theta_{2}}}x_{2}, \\hspace{15pt} e_0=y - {\\hat{y}} = y_c - \\hat{\\hat{y_c}}$  "
   ]
  },
  {
   "cell_type": "markdown",
   "metadata": {},
   "source": [
    "実際のデータで一致しているか確かめてみる。"
   ]
  },
  {
   "cell_type": "code",
   "execution_count": 19,
   "metadata": {
    "collapsed": false
   },
   "outputs": [
    {
     "name": "stdout",
     "output_type": "stream",
     "text": [
      "通常の回帰の残差\n",
      "[-0.54313725  5.81960784 -2.21960784 -0.89607843  2.85882353 -2.66078431\n",
      "  0.81960784  2.22156863 -4.66078431 -0.73921569]\n",
      "変数を中心化した回帰の残差\n",
      "[-0.54313725  5.81960784 -2.21960784 -0.89607843  2.85882353 -2.66078431\n",
      "  0.81960784  2.22156863 -4.66078431 -0.73921569]\n"
     ]
    }
   ],
   "source": [
    "#統計ライブラリを使用\n",
    "import statsmodels.api as sm\n",
    "X_ = np.column_stack((np.repeat(1,n),x_2)) #切片項を追加 \n",
    "model = sm.OLS(y,X_) # y = theta_0 + theta_2 * x_2 + eps\n",
    "results = model.fit()\n",
    "print(\"通常の回帰の残差\")\n",
    "print(results.resid)\n",
    "print(\"変数を中心化した回帰の残差\")\n",
    "print(e_0[0])"
   ]
  },
  {
   "cell_type": "markdown",
   "metadata": {},
   "source": [
    "###3. 単相関係数を用いる方法  "
   ]
  },
  {
   "cell_type": "markdown",
   "metadata": {},
   "source": [
    "コントロールする変数（影響を取り除く変数）が一つの場合は、\n",
    "偏相関係数を各変数間の相関係数を用いて表すことができる。"
   ]
  },
  {
   "cell_type": "markdown",
   "metadata": {},
   "source": [
    "$Corr(e_0,e_1) = \\frac{Cov(e_0,e_1)}{\\sqrt{Var(e_0)}\\sqrt{Var(e_1)}}$"
   ]
  },
  {
   "cell_type": "markdown",
   "metadata": {},
   "source": [
    "ここで、$Cov(e_0,e_1) = (1/n)y_c'[I-x_{2c}(x_{2c}'x_{2c})^{-1}x_{2c}']x_{1c}$、　$([I-x_{2c}(x_{2c}'x_{2c})^{-1}x_{2c}']$は対称、べき等)"
   ]
  },
  {
   "cell_type": "markdown",
   "metadata": {},
   "source": [
    "$\\sqrt{Var(e_0)} = \\sqrt{(1/n)y_c'[I-x_{2c}(x_{2c}'x_{2c})^{-1}x_{2c}']y_c}$、"
   ]
  },
  {
   "cell_type": "markdown",
   "metadata": {},
   "source": [
    "$\\sqrt{Var(e_1)} =　\\sqrt{(1/n)x_{1c}'[I-x_{2c}(x_{2c}'x_{2c})^{-1}x_{2c}']x_{1c}}$ だから、"
   ]
  },
  {
   "cell_type": "markdown",
   "metadata": {},
   "source": [
    "1.で用いた共分散を示す記号$s_{ij}$を用いると、"
   ]
  },
  {
   "cell_type": "markdown",
   "metadata": {},
   "source": [
    "$Corr(e_0,e_1)=\\frac{s_{01}-s_{02}s_{12x}s_{22}^{-1}}{\\sqrt{s_{00}-s_{02}^2s_{22}^{-1}}\\sqrt{s_{11}-s_{12}^2s_{22}^{-1}}}$\n",
    "$\\hspace{15pt}$ となる。\n",
    "(コントロール変数が1つなので、それとの共分散の部分はスカラー)"
   ]
  },
  {
   "cell_type": "markdown",
   "metadata": {},
   "source": [
    "単相関係数$r_{ij}=s_{ij}/\\sqrt{s_{ii}}\\sqrt{s_{jj}}$を用いた表示では、"
   ]
  },
  {
   "cell_type": "markdown",
   "metadata": {},
   "source": [
    "$Corr(e_0,e_1)=\\frac{r_{01}-r_{02}r_{12}}{\\sqrt{1-r_{02}^{2}}\\sqrt{1-r_{12}^{2}}}$　となる。"
   ]
  },
  {
   "cell_type": "markdown",
   "metadata": {},
   "source": [
    "全変数についての相関係数の行列を求める。  \n",
    "$A = [y,x_1,x_2]$とし、$A$を各列について標準化したものを改めて$Z$とおく。"
   ]
  },
  {
   "cell_type": "code",
   "execution_count": 20,
   "metadata": {
    "collapsed": false
   },
   "outputs": [
    {
     "data": {
      "text/plain": [
       "matrix([[-1.70612028, -1.78532808, -1.77122977],\n",
       "        [ 0.57766277,  0.08638684, -0.22140372],\n",
       "        [-0.09403813,  0.23036491,  0.22140372],\n",
       "        [ 1.92106457,  0.51832106,  2.21403721],\n",
       "        [-0.22837831, -0.63350351, -0.66421116],\n",
       "        [-0.76573902, -0.77748158, -0.44280744],\n",
       "        [-0.09403813,  1.52616755, -0.22140372],\n",
       "        [ 1.11502349,  1.67014562,  0.88561489],\n",
       "        [-1.03441938, -0.34554737, -0.44280744],\n",
       "        [ 0.30898241, -0.48952544,  0.44280744]])"
      ]
     },
     "execution_count": 20,
     "metadata": {},
     "output_type": "execute_result"
    }
   ],
   "source": [
    "A = np.column_stack((y,x_1,x_2))\n",
    "Z = (A - A.mean(axis=0)) / A.std(axis=0) #列ごとに標準化\n",
    "Z"
   ]
  },
  {
   "cell_type": "markdown",
   "metadata": {},
   "source": [
    "相関係数行列は、$(1/n)Z'Z$で表せるから、"
   ]
  },
  {
   "cell_type": "code",
   "execution_count": 21,
   "metadata": {
    "collapsed": false
   },
   "outputs": [
    {
     "data": {
      "text/plain": [
       "matrix([[ 1.        ,  0.67348983,  0.92204589],\n",
       "        [ 0.67348983,  1.        ,  0.61841925],\n",
       "        [ 0.92204589,  0.61841925,  1.        ]])"
      ]
     },
     "execution_count": 21,
     "metadata": {},
     "output_type": "execute_result"
    }
   ],
   "source": [
    "ZZ = (1/n)*Z.T * Z\n",
    "ZZ"
   ]
  },
  {
   "cell_type": "markdown",
   "metadata": {},
   "source": [
    "相関行列の要素を用いて、$y$と$x_1$の偏相関係数を計算。"
   ]
  },
  {
   "cell_type": "code",
   "execution_count": 22,
   "metadata": {
    "collapsed": false
   },
   "outputs": [
    {
     "data": {
      "text/plain": [
       "0.33952479611309688"
      ]
     },
     "execution_count": 22,
     "metadata": {},
     "output_type": "execute_result"
    }
   ],
   "source": [
    "(ZZ[0,1] - ZZ[0,2]*ZZ[1,2]) / (math.sqrt(1-pow(ZZ[0,2],2)) * math.sqrt(1-pow(ZZ[1,2],2)))"
   ]
  },
  {
   "cell_type": "markdown",
   "metadata": {},
   "source": [
    "1.、2.で求めた値と一致することが確かめられた。"
   ]
  }
 ],
 "metadata": {
  "kernelspec": {
   "display_name": "Python 3",
   "language": "python",
   "name": "python3"
  },
  "language_info": {
   "codemirror_mode": {
    "name": "ipython",
    "version": 3
   },
   "file_extension": ".py",
   "mimetype": "text/x-python",
   "name": "python",
   "nbconvert_exporter": "python",
   "pygments_lexer": "ipython3",
   "version": "3.4.1"
  }
 },
 "nbformat": 4,
 "nbformat_minor": 0
}
